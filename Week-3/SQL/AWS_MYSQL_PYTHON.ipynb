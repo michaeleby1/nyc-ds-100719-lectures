{
 "cells": [
  {
   "cell_type": "markdown",
   "metadata": {},
   "source": [
    "# Combining Python, SQL DBs and AWS"
   ]
  },
  {
   "cell_type": "markdown",
   "metadata": {},
   "source": [
    "## Aim: Connect to your DB on AWS through python, and execute queries.  \n"
   ]
  },
  {
   "cell_type": "markdown",
   "metadata": {},
   "source": [
    "# Using Python with MYSQL DB"
   ]
  },
  {
   "cell_type": "code",
   "execution_count": 4,
   "metadata": {},
   "outputs": [
    {
     "name": "stdout",
     "output_type": "stream",
     "text": [
      "Requirement already satisfied: mysql-connector-python in /Users/michaeleby1/opt/anaconda3/lib/python3.7/site-packages (8.0.18)\r\n",
      "Requirement already satisfied: protobuf>=3.0.0 in /Users/michaeleby1/opt/anaconda3/lib/python3.7/site-packages (from mysql-connector-python) (3.10.0)\r\n",
      "Requirement already satisfied: setuptools in /Users/michaeleby1/opt/anaconda3/lib/python3.7/site-packages (from protobuf>=3.0.0->mysql-connector-python) (41.4.0)\r\n",
      "Requirement already satisfied: six>=1.9 in /Users/michaeleby1/opt/anaconda3/lib/python3.7/site-packages (from protobuf>=3.0.0->mysql-connector-python) (1.12.0)\r\n"
     ]
    }
   ],
   "source": [
    "# make sure we have the package installed\n",
    "!pip install mysql-connector-python"
   ]
  },
  {
   "cell_type": "code",
   "execution_count": 1,
   "metadata": {},
   "outputs": [],
   "source": [
    "## importing 'mysql.connector' \n",
    "import mysql.connector "
   ]
  },
  {
   "cell_type": "code",
   "execution_count": null,
   "metadata": {},
   "outputs": [],
   "source": []
  },
  {
   "cell_type": "code",
   "execution_count": 99,
   "metadata": {
    "scrolled": true
   },
   "outputs": [
    {
     "ename": "SyntaxError",
     "evalue": "invalid syntax (<ipython-input-99-28d641d75707>, line 5)",
     "output_type": "error",
     "traceback": [
      "\u001b[0;36m  File \u001b[0;32m\"<ipython-input-99-28d641d75707>\"\u001b[0;36m, line \u001b[0;32m5\u001b[0m\n\u001b[0;31m    cnx = mysql.connector.connect(flatiron.codm2dacov9z.us-east-2.rds.amazonaws.com\u001b[0m\n\u001b[0m                                                                    ^\u001b[0m\n\u001b[0;31mSyntaxError\u001b[0m\u001b[0;31m:\u001b[0m invalid syntax\n"
     ]
    }
   ],
   "source": [
    "## Connecting to the database\n",
    "\n",
    "## connecting to the database using 'connect()' method\n",
    "## it takes 3 required parameters 'host', 'user', 'passwd'\n",
    "cnx = mysql.connector.connect(flatiron.codm2dacov9z.us-east-2.rds.amazonaws.com\n",
    "    host = \"localhost\",\n",
    "    user = \"admin\",\n",
    "    passwd = \"dbms\"\n",
    ")"
   ]
  },
  {
   "cell_type": "markdown",
   "metadata": {},
   "source": [
    "### Documentation:\n",
    "\n",
    "https://dev.mysql.com/doc/connector-python/en/connector-python-connectargs.html"
   ]
  },
  {
   "cell_type": "markdown",
   "metadata": {},
   "source": [
    "## Using a config File:\n",
    "\n",
    "You do not want to make your credentials viewable to everyone who might see this file.  So instead of explicity stating your credentials, we want to import them from another file.  "
   ]
  },
  {
   "cell_type": "code",
   "execution_count": 2,
   "metadata": {},
   "outputs": [],
   "source": [
    "import config"
   ]
  },
  {
   "cell_type": "code",
   "execution_count": 3,
   "metadata": {},
   "outputs": [
    {
     "data": {
      "text/plain": [
       "'flatiron.codm2dacov9z.us-east-2.rds.amazonaws.com'"
      ]
     },
     "execution_count": 3,
     "metadata": {},
     "output_type": "execute_result"
    }
   ],
   "source": [
    "config.host"
   ]
  },
  {
   "cell_type": "code",
   "execution_count": 4,
   "metadata": {},
   "outputs": [
    {
     "name": "stdout",
     "output_type": "stream",
     "text": [
      "<mysql.connector.connection_cext.CMySQLConnection object at 0x1134fa9d0>\n"
     ]
    }
   ],
   "source": [
    "## Connecting to the database\n",
    "\n",
    "## connecting to the database using 'connect()' method\n",
    "## it takes 3 required parameters 'host', 'user', 'passwd'\n",
    "cnx = mysql.connector .connect(\n",
    "    host = config.host,\n",
    "    user = config.user,\n",
    "    passwd = config.passwd\n",
    ")\n",
    "\n",
    "print(cnx) # it will print a connection object if everything is fine\n"
   ]
  },
  {
   "cell_type": "code",
   "execution_count": 5,
   "metadata": {},
   "outputs": [],
   "source": [
    "cursor = cnx.cursor()"
   ]
  },
  {
   "cell_type": "markdown",
   "metadata": {},
   "source": [
    "## SQL Commands: Data Definition Language Commands (DDL)\n",
    "This section will discuss the commands through which you can define your database. The commands are as follows:\n",
    "\n",
    "- CREATE\n",
    "- DROP\n",
    "- TRUNCATE\n",
    "- ALTER\n",
    "- BACKUP DATABASE"
   ]
  },
  {
   "cell_type": "markdown",
   "metadata": {},
   "source": [
    "### CREATE\n",
    "\n",
    "This statement is used to create a table or a database.\n",
    "\n"
   ]
  },
  {
   "cell_type": "markdown",
   "metadata": {},
   "source": [
    "#### The ‘CREATE DATABASE’ Statement:\n",
    "As the name suggests, this statement is used to create a database.\n",
    "\n",
    "**Syntax**\n",
    "\n",
    "`CREATE DATABASE DatabaseName;`\n",
    "\n",
    "**Example**\n",
    "\n",
    "`CREATE DATABASE Employee;`\n"
   ]
  },
  {
   "cell_type": "markdown",
   "metadata": {},
   "source": [
    "#### The **‘CREATE TABLE’** Statement\n",
    "\n",
    "This statement is used to create a table.\n",
    "\n",
    "**Syntax**\n",
    "\n",
    "`CREATE TABLE TableName (\n",
    "Column1 datatype,\n",
    "Column2 datatype,\n",
    "Column3 datatype,\n",
    "....\n",
    "ColumnN datatype\n",
    ");`\n",
    "\n",
    "**Example**\n",
    "\n",
    "`CREATE TABLE Employee_Info\n",
    "(\n",
    "EmployeeID int,\n",
    "EmployeeName varchar(255),\n",
    "Emergency ContactName varchar(255),\n",
    "PhoneNumber int,\n",
    "Address varchar(255),\n",
    "City varchar(255),\n",
    "Country varchar(255)\n",
    ");`\n",
    "\n",
    "You can also create a table using another table. Refer the below sytax and example:\n",
    "\n",
    "#### The ‘CREATE TABLE AS’ Statement\n",
    "**Syntax**\n",
    "\n",
    "`CREATE TABLE NewTableName AS\n",
    "SELECT Column1, column2,..., ColumnN\n",
    "FROM ExistingTableName\n",
    "WHERE ....;`\n",
    "\n",
    "**Example**\n",
    "\n",
    "`CREATE TABLE ExampleTable AS\n",
    "SELECT EmployeeName, PhoneNumber\n",
    "FROM Employee_Info;`"
   ]
  },
  {
   "cell_type": "markdown",
   "metadata": {},
   "source": [
    "[MYSQL Data Types](http://www.mysqltutorial.org/mysql-data-types.aspx)"
   ]
  },
  {
   "cell_type": "markdown",
   "metadata": {},
   "source": [
    "### DROP\n",
    "This statement is used to drop an existing table or a database.\n",
    "\n",
    "#### The ‘DROP DATABASE’ Statement\n",
    "This statement is used to drop an existing database. When you use this statement, complete information present in the database will be lost.\n",
    "\n",
    "**Syntax**\n",
    "\n",
    "`DROP DATABASE DatabaseName;`\n",
    "\n",
    "**Example**\n",
    "\n",
    "`DROP DATABASE Employee;`\n",
    "\n",
    "#### The ‘DROP TABLE’ Statement\n",
    "This statement is used to drop an existing table. When you use this statement, complete information present in the table will be lost.\n",
    "\n",
    "**Syntax**\n",
    "\n",
    "`DROP TABLE TableName;`\n",
    "\n",
    "**Example**\n",
    "\n",
    "`DROP Table Employee_Info;`"
   ]
  },
  {
   "cell_type": "markdown",
   "metadata": {},
   "source": [
    "### TRUNCATE\n",
    "This command is used to delete the information present in the table but does not delete the table. So, once you use this command, your information will be lost, but not the table.\n",
    "\n",
    "**Syntax**\n",
    "\n",
    "`TRUNCATE TABLE TableName;`\n",
    "\n",
    "**Example**\n",
    "\n",
    "`TRUNCATE Table Employee_Info;`"
   ]
  },
  {
   "cell_type": "markdown",
   "metadata": {},
   "source": [
    "### The ‘ALTER TABLE’ Statement\n",
    "This statement is used to add, delete, modify columns in an existing table.\n",
    "\n",
    "#### The ‘ALTER TABLE’ Statement with ADD/DROP COLUMN\n",
    "You can use the ALTER TABLE statement with ADD/DROP Column command according to your need. If you wish to add a column, then you will use the ADD command, and if you wish to delete a column, then you will use the DROP COLUMN command.\n",
    "\n",
    "**Syntax**\n",
    "`ALTER TABLE TableName\n",
    "ADD ColumnName Datatype;`\n",
    "\n",
    "`ALTER TABLE TableName\n",
    "DROP COLUMN ColumnName;`\n",
    "\n",
    "**Example**\n",
    "\n",
    "`ALTER TABLE Employee_Info\n",
    "ADD BloodGroup varchar(255);`\n",
    " \n",
    "`ALTER TABLE Employee_Info\n",
    "DROP COLUMN BloodGroup ;`\n",
    "\n",
    "#### The ‘ALTER TABLE’ Statement with ALTER/MODIFY COLUMN\n",
    "This statement is used to change the datatype of an existing column in a table.\n",
    "\n",
    "**Syntax**\n",
    "\n",
    "`ALTER TABLE TableName\n",
    "ALTER COLUMN ColumnName Datatype;`\n",
    "\n",
    "**Example**\n",
    " \n",
    "`ALTER TABLE Employee_Info\n",
    "ADD DOB year;\n",
    "ALTER TABLE Employee_Info\n",
    "ALTER DOB date;`"
   ]
  },
  {
   "cell_type": "markdown",
   "metadata": {},
   "source": [
    "### BACKUP DATABASE\n",
    "This statement is used to create a full backup of an existing database.\n",
    "\n",
    "**Syntax**\n",
    "`BACKUP DATABASE DatabaseName\n",
    "TO DISK = 'filepath';`\n",
    "\n",
    "**Example**\n",
    "\n",
    "`BACKUP DATABASE Employee\n",
    "TO DISK = 'C:UsersSahitiDesktop';`\n"
   ]
  },
  {
   "cell_type": "markdown",
   "metadata": {},
   "source": [
    "## SQL Commands: Constraints Used In Database\n",
    "Constraints are used in a database to specify the rules for data in a table. The following are the different types of constraints:\n",
    "\n",
    "- NOT NULL\n",
    "- UNIQUE\n",
    "- CHECK\n",
    "- DEFAULT\n",
    "- INDEX\n",
    "\n",
    "\n",
    "### NOT NULL\n",
    "This constraint ensures that a column cannot have a NULL value.\n",
    "\n",
    "**Example**\n",
    "\n",
    " \n",
    "`CREATE TABLE Employee_Info\n",
    "(\n",
    "EmployeeID int NOT NULL,\n",
    "EmployeeName varchar(255) NOT NULL,\n",
    "Emergency ContactName varchar(255),\n",
    "PhoneNumber int NOT NULL,\n",
    "Address varchar(255),\n",
    "City varchar(255),\n",
    "Country varchar(255)\n",
    ");`\n",
    " \n",
    "NOT NULL on ALTER TABLE\n",
    " \n",
    "`ALTER TABLE Employee_Info\n",
    "MODIFY PhoneNumber int NOT NULL;`\n",
    "\n",
    "### UNIQUE\n",
    "This constraint ensures that all the values in a column are unique.\n",
    "\n",
    "**Example**\n",
    "\n",
    "UNIQUE on Create Table\n",
    " \n",
    "`CREATE TABLE Employee_Info\n",
    "(\n",
    "EmployeeID int NOT NULL UNIQUE,\n",
    "EmployeeName varchar(255) NOT NULL,\n",
    "Emergency ContactName varchar(255),\n",
    "PhoneNumber int NOT NULL,\n",
    "Address varchar(255),\n",
    "City varchar(255),\n",
    "Country varchar(255)\n",
    ");`\n",
    " \n",
    "UNIQUE on Multiple Columns\n",
    " \n",
    "`CREATE TABLE Employee_Info\n",
    "(\n",
    "EmployeeID int NOT NULL,\n",
    "EmployeeName varchar(255) NOT NULL,\n",
    "Emergency ContactName varchar(255),\n",
    "PhoneNumber int NOT NULL,\n",
    "Address varchar(255),\n",
    "City varchar(255),\n",
    "Country varchar(255),\n",
    "CONSTRAINT UC_Employee_Info UNIQUE(Employee_ID, PhoneNumber)\n",
    ");`\n",
    " \n",
    "UNIQUE on ALTER TABLE\n",
    " \n",
    "`ALTER TABLE Employee_Info\n",
    "ADD UNIQUE (Employee_ID);`\n",
    " \n",
    "To drop a UNIQUE constraint\n",
    " \n",
    "`ALTER TABLE  Employee_Info\n",
    "DROP CONSTRAINT UC_Employee_Info;`"
   ]
  },
  {
   "cell_type": "code",
   "execution_count": null,
   "metadata": {},
   "outputs": [],
   "source": []
  },
  {
   "cell_type": "markdown",
   "metadata": {},
   "source": [
    "## Creating DB"
   ]
  },
  {
   "cell_type": "code",
   "execution_count": 6,
   "metadata": {},
   "outputs": [],
   "source": [
    "from mysql.connector import errorcode"
   ]
  },
  {
   "cell_type": "code",
   "execution_count": 7,
   "metadata": {},
   "outputs": [],
   "source": [
    "db_name = 'employees'"
   ]
  },
  {
   "cell_type": "code",
   "execution_count": 8,
   "metadata": {},
   "outputs": [],
   "source": [
    "def create_database(cursor, database):\n",
    "    try:\n",
    "        cursor.execute(\n",
    "            \"CREATE DATABASE {} DEFAULT CHARACTER SET 'utf8'\".format(database))\n",
    "    except mysql.connector.Error as err:\n",
    "        print(\"Failed creating database: {}\".format(err))\n",
    "        exit(1)\n",
    "\n",
    "try:\n",
    "    cursor.execute(\"USE {}\".format(db_name))\n",
    "except mysql.connector.Error as err:\n",
    "    print(\"Database {} does not exists.\".format(db_name))\n",
    "    if err.errno == errorcode.ER_BAD_DB_ERROR:\n",
    "        create_database(cursor, db_name)\n",
    "        print(\"Database {} created successfully.\".format(db_name))\n",
    "        cnx.database = db_name\n",
    "    else:\n",
    "        print(err)\n",
    "        exit(1)"
   ]
  },
  {
   "cell_type": "markdown",
   "metadata": {},
   "source": [
    "### Creating tables"
   ]
  },
  {
   "cell_type": "code",
   "execution_count": 9,
   "metadata": {},
   "outputs": [],
   "source": [
    "DB_NAME = 'employees'\n",
    "\n",
    "TABLES = {}\n",
    "TABLES['employees'] = (\n",
    "    \"CREATE TABLE employees (\"\n",
    "    \"  emp_no int(11) NOT NULL AUTO_INCREMENT,\"\n",
    "    \"  birth_date date NOT NULL,\"\n",
    "    \"  first_name varchar(14) NOT NULL,\"\n",
    "    \"  last_name varchar(16) NOT NULL,\"\n",
    "    \"  gender enum('M','F') NOT NULL,\"\n",
    "    \"  hire_date date NOT NULL,\"\n",
    "    \"  PRIMARY KEY (emp_no)\"\n",
    "    \") ENGINE=InnoDB\")\n",
    "\n",
    "TABLES['departments'] = (\n",
    "    \"CREATE TABLE departments (\"\n",
    "    \"  dept_no char(4) NOT NULL,\"\n",
    "    \"  dept_name varchar(40) NOT NULL,\"\n",
    "    \"  PRIMARY KEY (dept_no), UNIQUE KEY dept_name (dept_name)\"\n",
    "    \") ENGINE=InnoDB\")\n",
    "\n",
    "TABLES['salaries'] = (\n",
    "    \"CREATE TABLE salaries (\"\n",
    "    \"  emp_no int(11) NOT NULL,\"\n",
    "    \"  salary int(11) NOT NULL,\"\n",
    "    \"  from_date date NOT NULL,\"\n",
    "    \"  to_date date NOT NULL,\"\n",
    "    \"  PRIMARY KEY (emp_no,from_date), KEY emp_no (emp_no),\"\n",
    "    \"  CONSTRAINT salaries_ibfk_1 FOREIGN KEY (emp_no) \"\n",
    "    \"     REFERENCES employees (emp_no) ON DELETE CASCADE\"\n",
    "    \") ENGINE=InnoDB\")\n",
    "\n",
    "TABLES['dept_emp'] = (\n",
    "    \"CREATE TABLE dept_emp (\"\n",
    "    \"  emp_no int(11) NOT NULL,\"\n",
    "    \"  dept_no char(4) NOT NULL,\"\n",
    "    \"  from_date date NOT NULL,\"\n",
    "    \"  to_date date NOT NULL,\"\n",
    "    \"  PRIMARY KEY (emp_no,dept_no), KEY emp_no (emp_no),\"\n",
    "    \"  KEY dept_no (dept_no),\"\n",
    "    \"  CONSTRAINT dept_emp_ibfk_1 FOREIGN KEY (emp_no) \"\n",
    "    \"     REFERENCES employees (emp_no) ON DELETE CASCADE,\"\n",
    "    \"  CONSTRAINT dept_emp_ibfk_2 FOREIGN KEY (dept_no) \"\n",
    "    \"     REFERENCES departments (dept_no) ON DELETE CASCADE\"\n",
    "    \") ENGINE=InnoDB\")\n",
    "\n",
    "TABLES['dept_manager'] = (\n",
    "    \"  CREATE TABLE dept_manager (\"\n",
    "    \"  dept_no char(4) NOT NULL,\"\n",
    "    \"  emp_no int(11) NOT NULL,\"\n",
    "    \"  from_date date NOT NULL,\"\n",
    "    \"  to_date date NOT NULL,\"\n",
    "    \"  PRIMARY KEY (emp_no,dept_no),\"\n",
    "    \"  KEY emp_no (emp_no),\"\n",
    "    \"  KEY dept_no (dept_no),\"\n",
    "    \"  CONSTRAINT dept_manager_ibfk_1 FOREIGN KEY (emp_no) \"\n",
    "    \"     REFERENCES employees (emp_no) ON DELETE CASCADE,\"\n",
    "    \"  CONSTRAINT dept_manager_ibfk_2 FOREIGN KEY (dept_no) \"\n",
    "    \"     REFERENCES departments (dept_no) ON DELETE CASCADE\"\n",
    "    \") ENGINE=InnoDB\")\n",
    "\n",
    "TABLES['titles'] = (\n",
    "    \"CREATE TABLE titles (\"\n",
    "    \"  emp_no int(11) NOT NULL,\"\n",
    "    \"  title varchar(50) NOT NULL,\"\n",
    "    \"  from_date date NOT NULL,\"\n",
    "    \"  to_date date DEFAULT NULL,\"\n",
    "    \"  PRIMARY KEY (emp_no,title,from_date), KEY emp_no (emp_no),\"\n",
    "    \"  CONSTRAINT titles_ibfk_1 FOREIGN KEY (emp_no)\"\n",
    "    \"     REFERENCES employees (emp_no) ON DELETE CASCADE\"\n",
    "    \") ENGINE=InnoDB\")"
   ]
  },
  {
   "cell_type": "code",
   "execution_count": 10,
   "metadata": {},
   "outputs": [
    {
     "data": {
      "text/plain": [
       "\"CREATE TABLE employees (  emp_no int(11) NOT NULL AUTO_INCREMENT,  birth_date date NOT NULL,  first_name varchar(14) NOT NULL,  last_name varchar(16) NOT NULL,  gender enum('M','F') NOT NULL,  hire_date date NOT NULL,  PRIMARY KEY (emp_no)) ENGINE=InnoDB\""
      ]
     },
     "execution_count": 10,
     "metadata": {},
     "output_type": "execute_result"
    }
   ],
   "source": [
    "TABLES['employees']"
   ]
  },
  {
   "cell_type": "code",
   "execution_count": 11,
   "metadata": {},
   "outputs": [
    {
     "name": "stdout",
     "output_type": "stream",
     "text": [
      "Creating table employees: already exists.\n",
      "Creating table departments: already exists.\n",
      "Creating table salaries: already exists.\n",
      "Creating table dept_emp: already exists.\n",
      "Creating table dept_manager: already exists.\n",
      "Creating table titles: already exists.\n"
     ]
    }
   ],
   "source": [
    "for table_name in TABLES:\n",
    "    table_description = TABLES[table_name]\n",
    "    try:\n",
    "        print(\"Creating table {}: \".format(table_name), end='')\n",
    "        cursor.execute(table_description)\n",
    "    except mysql.connector.Error as err:\n",
    "        if err.errno == errorcode.ER_TABLE_EXISTS_ERROR:\n",
    "            print(\"already exists.\")\n",
    "        else:\n",
    "            print(err.msg)\n",
    "    else:\n",
    "        print(\"OK\")\n",
    "\n",
    "cursor.close()\n",
    "cnx.close()"
   ]
  },
  {
   "cell_type": "markdown",
   "metadata": {},
   "source": [
    "## Inserting Data"
   ]
  },
  {
   "cell_type": "code",
   "execution_count": 12,
   "metadata": {},
   "outputs": [],
   "source": [
    "#since we closed the connection, we need to reinstatiate it\n",
    "cnx = mysql.connector.connect(\n",
    "    host = config.host,\n",
    "    user = config.user,\n",
    "    passwd = config.passwd,\n",
    "    database = DB_NAME\n",
    ")\n",
    "cursor = cnx.cursor()"
   ]
  },
  {
   "cell_type": "code",
   "execution_count": 13,
   "metadata": {},
   "outputs": [],
   "source": [
    "# cursor = create_cnx()"
   ]
  },
  {
   "cell_type": "code",
   "execution_count": 14,
   "metadata": {},
   "outputs": [],
   "source": [
    "from datetime import date, datetime, timedelta\n",
    "\n",
    "tomorrow = datetime.now().date() + timedelta(days=1)\n",
    "\n",
    "add_employee = (\"INSERT INTO employees \"\n",
    "               \"(first_name, last_name, hire_date, gender, birth_date) \"\n",
    "               \"VALUES (%s, %s, %s, %s, %s)\")\n",
    "add_salary = (\"INSERT INTO salaries \"\n",
    "              \"(emp_no, salary, from_date, to_date) \"\n",
    "              \"VALUES (%(emp_no)s, %(salary)s, %(from_date)s, %(to_date)s)\")\n",
    "\n",
    "data_employee = ('Geert', 'Vanderkelen', tomorrow, 'M', date(1977, 6, 14))\n",
    "\n"
   ]
  },
  {
   "cell_type": "code",
   "execution_count": 15,
   "metadata": {},
   "outputs": [
    {
     "data": {
      "text/plain": [
       "('Geert',\n",
       " 'Vanderkelen',\n",
       " datetime.date(2019, 10, 25),\n",
       " 'M',\n",
       " datetime.date(1977, 6, 14))"
      ]
     },
     "execution_count": 15,
     "metadata": {},
     "output_type": "execute_result"
    }
   ],
   "source": [
    "data_employee"
   ]
  },
  {
   "cell_type": "code",
   "execution_count": 16,
   "metadata": {},
   "outputs": [
    {
     "data": {
      "text/plain": [
       "<mysql.connector.cursor_cext.CMySQLCursor at 0x1134fadd0>"
      ]
     },
     "execution_count": 16,
     "metadata": {},
     "output_type": "execute_result"
    }
   ],
   "source": [
    "cursor"
   ]
  },
  {
   "cell_type": "code",
   "execution_count": 17,
   "metadata": {},
   "outputs": [],
   "source": [
    "# Insert new employee\n",
    "cursor.execute(add_employee, data_employee)\n",
    "emp_no = cursor.lastrowid\n",
    "\n",
    "\n"
   ]
  },
  {
   "cell_type": "code",
   "execution_count": 18,
   "metadata": {},
   "outputs": [
    {
     "data": {
      "text/plain": [
       "10"
      ]
     },
     "execution_count": 18,
     "metadata": {},
     "output_type": "execute_result"
    }
   ],
   "source": [
    "emp_no"
   ]
  },
  {
   "cell_type": "code",
   "execution_count": 19,
   "metadata": {},
   "outputs": [],
   "source": [
    "# Insert salary information\n",
    "data_salary = {\n",
    "  'emp_no': emp_no,\n",
    "  'salary': 50000,\n",
    "  'from_date': tomorrow,\n",
    "  'to_date': date(9999, 1, 1),\n",
    "}\n",
    "cursor.execute(add_salary, data_salary)\n",
    "\n",
    "# Make sure data is committed to the database\n",
    "cnx.commit()\n"
   ]
  },
  {
   "cell_type": "markdown",
   "metadata": {},
   "source": [
    "## Insert Many"
   ]
  },
  {
   "cell_type": "markdown",
   "metadata": {},
   "source": [
    "cursor.executemany(operation, seq_of_params)"
   ]
  },
  {
   "cell_type": "code",
   "execution_count": 20,
   "metadata": {},
   "outputs": [],
   "source": [
    "cnx = mysql.connector.connect(\n",
    "    host = config.host,\n",
    "    user = config.user,\n",
    "    passwd = config.passwd,\n",
    "    database = DB_NAME\n",
    ")\n",
    "cursor = cnx.cursor()"
   ]
  },
  {
   "cell_type": "code",
   "execution_count": 21,
   "metadata": {},
   "outputs": [],
   "source": [
    "data = [\n",
    "  ('Jane', date(2005, 2, 12)),\n",
    "  ('Joe', date(2006, 5, 23)),\n",
    "  ('John', date(2010, 10, 3)),\n",
    "]\n",
    "stmt = \"INSERT INTO employees (first_name, hire_date) VALUES (%s, %s)\"\n",
    "cursor.executemany(stmt, data)"
   ]
  },
  {
   "cell_type": "code",
   "execution_count": 22,
   "metadata": {},
   "outputs": [],
   "source": [
    "cnx.commit()"
   ]
  },
  {
   "cell_type": "code",
   "execution_count": 23,
   "metadata": {},
   "outputs": [],
   "source": [
    "cursor.close()\n",
    "cnx.close()"
   ]
  },
  {
   "cell_type": "markdown",
   "metadata": {},
   "source": [
    "## Querying the DB"
   ]
  },
  {
   "cell_type": "code",
   "execution_count": 24,
   "metadata": {},
   "outputs": [],
   "source": [
    "cnx = mysql.connector.connect(\n",
    "    host = config.host,\n",
    "    user = config.user,\n",
    "    passwd = config.passwd,\n",
    "    database = DB_NAME\n",
    ")\n",
    "cursor = cnx.cursor()"
   ]
  },
  {
   "cell_type": "code",
   "execution_count": 25,
   "metadata": {},
   "outputs": [
    {
     "name": "stdout",
     "output_type": "stream",
     "text": [
      ", Jane was hired on 12 Feb 2005\n",
      ", Joe was hired on 23 May 2006\n",
      ", John was hired on 03 Oct 2010\n",
      ", Jane was hired on 12 Feb 2005\n",
      ", Joe was hired on 23 May 2006\n",
      ", John was hired on 03 Oct 2010\n",
      ", Jane was hired on 12 Feb 2005\n",
      ", Joe was hired on 23 May 2006\n",
      ", John was hired on 03 Oct 2010\n"
     ]
    }
   ],
   "source": [
    "\n",
    "query = (\"SELECT first_name, last_name, hire_date FROM employees \"\n",
    "         \"WHERE hire_date BETWEEN %s AND %s\")\n",
    "\n",
    "hire_start = date(2005, 1, 1)\n",
    "hire_end = date(2010, 12, 31)\n",
    "\n",
    "cursor.execute(query, (hire_start, hire_end))\n",
    "\n",
    "for (first_name, last_name, hire_date) in cursor:\n",
    "  print(\"{}, {} was hired on {:%d %b %Y}\".format(\n",
    "    last_name, first_name, hire_date))\n",
    "\n",
    "cursor.close()\n",
    "cnx.close()"
   ]
  },
  {
   "cell_type": "markdown",
   "metadata": {},
   "source": [
    "## Applied: Working with our student data"
   ]
  },
  {
   "cell_type": "markdown",
   "metadata": {},
   "source": [
    "### Import our student data"
   ]
  },
  {
   "cell_type": "code",
   "execution_count": 57,
   "metadata": {},
   "outputs": [],
   "source": [
    "import json"
   ]
  },
  {
   "cell_type": "code",
   "execution_count": 58,
   "metadata": {},
   "outputs": [],
   "source": [
    "\n",
    "\n",
    "f=open('students.json','r')\n",
    "data=json.load(f)"
   ]
  },
  {
   "cell_type": "markdown",
   "metadata": {},
   "source": [
    "### Create a connection and cursor to AWS db"
   ]
  },
  {
   "cell_type": "code",
   "execution_count": 59,
   "metadata": {},
   "outputs": [],
   "source": [
    "cnx = mysql.connector.connect(\n",
    "    host = config.host,\n",
    "    user = config.user,\n",
    "    passwd = config.passwd,\n",
    "    database = DB_NAME\n",
    ")\n",
    "cursor = cnx.cursor()"
   ]
  },
  {
   "cell_type": "markdown",
   "metadata": {},
   "source": [
    "### Create a table for our student info"
   ]
  },
  {
   "cell_type": "code",
   "execution_count": 60,
   "metadata": {},
   "outputs": [],
   "source": [
    "\n",
    "create_query = \"\"\"\n",
    "CREATE TABLE students (\n",
    "    student_id int(7) NOT NULL UNIQUE AUTO_INCREMENT,\n",
    "    name varchar(20) NOT NULL,\n",
    "    dob date NOT NULL,\n",
    "    birthplace varchar(50) NOT NULL,\n",
    "    siblings int(32) NOT NULL,\n",
    "    years_in_nyc float(3) NOT NULL,\n",
    "    favorite_food varchar(50) NOT NULL \n",
    "    )Engine=InnoDB\n",
    "\"\"\""
   ]
  },
  {
   "cell_type": "code",
   "execution_count": 61,
   "metadata": {},
   "outputs": [],
   "source": [
    "cursor.execute(create_query)"
   ]
  },
  {
   "cell_type": "markdown",
   "metadata": {},
   "source": [
    "### Insert the student data into the table"
   ]
  },
  {
   "cell_type": "code",
   "execution_count": 62,
   "metadata": {},
   "outputs": [
    {
     "name": "stdout",
     "output_type": "stream",
     "text": [
      "Sean Abu Wilson\n",
      "Rebecca Chi-May Weng\n",
      "Charlie Schlinkert\n",
      "Clare Blessen\n",
      "Dave Bletsch\n",
      "Eddie Pognon\n",
      "Findlay Bowditch\n",
      "Gabriel Seemann\n",
      "Garrett Keyes\n",
      "Jake Cohen\n",
      "JP Rinfret\n",
      "Kenny Miyasato\n",
      "Kyle McNicoll\n",
      "Marco Sanchez-Ayala\n",
      "Matthew R Finch\n",
      "melissa\n",
      "Michael Eby\n",
      "Ravi Charan\n",
      "Regina Ryan\n",
      "Samuel Diaz\n",
      "Sasha Epelbaum\n",
      "Stephanie Bourdeau\n",
      "Wesley Willis\n",
      "Zoe Zhu\n",
      "Christopher Shaw\n",
      "['name', 'dob', 'birthplace', 'siblings', 'years_in_nyc', 'favoritefood', 'favorite_food']\n"
     ]
    }
   ],
   "source": [
    "#\n",
    "keys_list = []\n",
    "for student in data:\n",
    "    print(student['name'])\n",
    "    keys = student.keys()\n",
    "    for word in keys:\n",
    "        if word not in keys_list:\n",
    "            keys_list.append(word)\n",
    "print (keys_list)"
   ]
  },
  {
   "cell_type": "code",
   "execution_count": 63,
   "metadata": {},
   "outputs": [],
   "source": [
    "student = data[0]"
   ]
  },
  {
   "cell_type": "code",
   "execution_count": 64,
   "metadata": {},
   "outputs": [
    {
     "data": {
      "text/plain": [
       "{'name': 'Sean Abu Wilson',\n",
       " 'dob': '1985-02-06',\n",
       " 'birthplace': 'Birmingham, AL',\n",
       " 'siblings': 2,\n",
       " 'years_in_nyc': 8.4,\n",
       " 'favoritefood': 'oatmeal raisin cookies'}"
      ]
     },
     "execution_count": 64,
     "metadata": {},
     "output_type": "execute_result"
    }
   ],
   "source": [
    "data[0]"
   ]
  },
  {
   "cell_type": "code",
   "execution_count": 65,
   "metadata": {},
   "outputs": [],
   "source": [
    "students_list = []\n",
    "\n",
    "for student in data:\n",
    "    if \"favoritefood\" in student.keys():\n",
    "        student[\"favorite_food\"] = student[\"favoritefood\"]\n",
    "    \n",
    "    student_tuple = (student['name'], student['dob'],\n",
    "                     student['siblings'], student['birthplace'],\n",
    "                     student['years_in_nyc'], student['favorite_food'])\n",
    "    students_list.append(student_tuple)"
   ]
  },
  {
   "cell_type": "code",
   "execution_count": 66,
   "metadata": {},
   "outputs": [],
   "source": [
    "insert_query = \"\"\"INSERT INTO students (name, dob, siblings, birthplace, years_in_nyc, favorite_food) \n",
    "                VALUES (%s, %s, %s, %s, %s, %s)\"\"\""
   ]
  },
  {
   "cell_type": "code",
   "execution_count": 67,
   "metadata": {},
   "outputs": [],
   "source": [
    "cursor.executemany(insert_query, students_list)\n",
    "\n",
    "cnx.commit()"
   ]
  },
  {
   "cell_type": "markdown",
   "metadata": {},
   "source": [
    "### Write queries to answer the following questions:\n",
    "\n",
    "**Questions**\n",
    "- Which student is the youngest?\n",
    "- Which student's birthday is closest to the cohort's graduation date?\n",
    "- Which student has the most siblings?\n",
    "- How many students are only children?\n",
    "- Which 3 students have lived in NYC the shortest amount of time?\n",
    "- How many students are native New Yorkers?\n",
    "- What are the most popular foods among the class?"
   ]
  },
  {
   "cell_type": "markdown",
   "metadata": {},
   "source": [
    "[Utilizing the date data type in MySQL](http://www.mysqltutorial.org/mysql-date/)"
   ]
  },
  {
   "cell_type": "code",
   "execution_count": 82,
   "metadata": {},
   "outputs": [],
   "source": [
    "DB_NAME = \"employees\"\n",
    "cnx = mysql.connector.connect(\n",
    "    host = config.host,\n",
    "    user = config.user,\n",
    "    passwd = config.passwd,\n",
    "    database = DB_NAME\n",
    ")\n",
    "cursor = cnx.cursor()"
   ]
  },
  {
   "cell_type": "code",
   "execution_count": 49,
   "metadata": {},
   "outputs": [
    {
     "data": {
      "text/plain": [
       "[('Sasha Epelbaum', datetime.date(1996, 10, 5))]"
      ]
     },
     "execution_count": 49,
     "metadata": {},
     "output_type": "execute_result"
    }
   ],
   "source": [
    "# Which student is the youngest?\n",
    "\n",
    "cursor.execute(\"SELECT s.name, s.dob FROM employees.students s ORDER BY s.dob DESC LIMIT 1;\")\n",
    "\n",
    "cursor.fetchall()"
   ]
  },
  {
   "cell_type": "code",
   "execution_count": 70,
   "metadata": {},
   "outputs": [
    {
     "data": {
      "text/plain": [
       "[('Sean Abu Wilson', datetime.date(1985, 2, 6), 13)]"
      ]
     },
     "execution_count": 70,
     "metadata": {},
     "output_type": "execute_result"
    }
   ],
   "source": [
    "# Which student's birthday is closest to the cohort's graduation date?\n",
    "\n",
    "cursor.execute(\"\"\"SELECT \n",
    "                    s.name,\n",
    "                    s.dob,\n",
    "                    CASE \n",
    "                    WHEN MONTH(s.dob) = 1 THEN abs(24 - DAY(s.dob))\n",
    "                    WHEN MONTH(s.dob) = 2 THEN DAY(s.dob) + 7\n",
    "                    END as distance_from_graduation\n",
    "                FROM \n",
    "                    employees.students s\n",
    "                GROUP BY\n",
    "                    distance_from_graduation\n",
    "                LIMIT\n",
    "                    1 \n",
    "                ;\"\"\")\n",
    "\n",
    "cursor.fetchall()"
   ]
  },
  {
   "cell_type": "code",
   "execution_count": 83,
   "metadata": {},
   "outputs": [
    {
     "data": {
      "text/plain": [
       "[('Eddie Pognon', 4), ('Wesley Willis', 4)]"
      ]
     },
     "execution_count": 83,
     "metadata": {},
     "output_type": "execute_result"
    }
   ],
   "source": [
    "# Which student has the most siblings?\n",
    "\n",
    "cursor.execute(\"\"\"SELECT\n",
    "                       name, \n",
    "                       siblings\n",
    "                    FROM\n",
    "                        students \n",
    "                    ORDER BY\n",
    "                        siblings DESC\n",
    "                    LIMIT\n",
    "                        2\n",
    "                    ;\"\"\")\n",
    "cursor.fetchall()"
   ]
  },
  {
   "cell_type": "code",
   "execution_count": 72,
   "metadata": {},
   "outputs": [
    {
     "data": {
      "text/plain": [
       "[(5,)]"
      ]
     },
     "execution_count": 72,
     "metadata": {},
     "output_type": "execute_result"
    }
   ],
   "source": [
    "# How many students are only children?\n",
    "\n",
    "cursor.execute(\"\"\"SELECT\n",
    "                    COUNT(student_id)\n",
    "                FROM\n",
    "                    students\n",
    "                WHERE \n",
    "                    siblings = 0\n",
    "                ;\"\"\")\n",
    "\n",
    "cursor.fetchall()"
   ]
  },
  {
   "cell_type": "code",
   "execution_count": 80,
   "metadata": {},
   "outputs": [
    {
     "data": {
      "text/plain": [
       "[('Kenny Miyasato', 0.0), ('Dave Bletsch', 0.6), ('Findlay Bowditch', 1.0)]"
      ]
     },
     "execution_count": 80,
     "metadata": {},
     "output_type": "execute_result"
    }
   ],
   "source": [
    "# Which 3 students have lived in NYC the shortest amount of time?\n",
    "cursor.execute(\"\"\"SELECT\n",
    "                    name,\n",
    "                    years_in_nyc\n",
    "                FROM\n",
    "                    students\n",
    "                ORDER BY\n",
    "                    years_in_nyc ASC\n",
    "                LIMIT\n",
    "                    3\n",
    "                ;\"\"\")\n",
    "\n",
    "cursor.fetchall()"
   ]
  },
  {
   "cell_type": "code",
   "execution_count": 90,
   "metadata": {},
   "outputs": [
    {
     "data": {
      "text/plain": [
       "[(2,)]"
      ]
     },
     "execution_count": 90,
     "metadata": {},
     "output_type": "execute_result"
    }
   ],
   "source": [
    "# How many students are native New Yorkers?\n",
    "cursor.execute(\"\"\"SELECT\n",
    "                    COUNT(student_id)\n",
    "                FROM\n",
    "                    students\n",
    "                WHERE\n",
    "                    birthplace LIKE \"%New York%\" \n",
    "                    \"\"\")\n",
    "cursor.fetchall()"
   ]
  },
  {
   "cell_type": "code",
   "execution_count": 97,
   "metadata": {},
   "outputs": [
    {
     "ename": "InternalError",
     "evalue": "Unread result found",
     "output_type": "error",
     "traceback": [
      "\u001b[0;31m---------------------------------------------------------------------------\u001b[0m",
      "\u001b[0;31mInternalError\u001b[0m                             Traceback (most recent call last)",
      "\u001b[0;32m<ipython-input-97-6894c968ca0e>\u001b[0m in \u001b[0;36m<module>\u001b[0;34m\u001b[0m\n\u001b[1;32m     10\u001b[0m                 \u001b[0mORDER\u001b[0m \u001b[0mBY\u001b[0m\u001b[0;34m\u001b[0m\u001b[0;34m\u001b[0m\u001b[0m\n\u001b[1;32m     11\u001b[0m                     \u001b[0mCOUNT\u001b[0m\u001b[0;34m(\u001b[0m\u001b[0mfavorite_food\u001b[0m\u001b[0;34m)\u001b[0m \u001b[0mDESC\u001b[0m\u001b[0;34m\u001b[0m\u001b[0;34m\u001b[0m\u001b[0m\n\u001b[0;32m---> 12\u001b[0;31m                 ;\"\"\")\n\u001b[0m\u001b[1;32m     13\u001b[0m \u001b[0mcursor\u001b[0m\u001b[0;34m.\u001b[0m\u001b[0mfetchall\u001b[0m\u001b[0;34m(\u001b[0m\u001b[0;34m)\u001b[0m\u001b[0;34m\u001b[0m\u001b[0;34m\u001b[0m\u001b[0m\n",
      "\u001b[0;32m~/opt/anaconda3/lib/python3.7/site-packages/mysql/connector/cursor_cext.py\u001b[0m in \u001b[0;36mexecute\u001b[0;34m(self, operation, params, multi)\u001b[0m\n\u001b[1;32m    232\u001b[0m         \u001b[0;32mif\u001b[0m \u001b[0;32mnot\u001b[0m \u001b[0mself\u001b[0m\u001b[0;34m.\u001b[0m\u001b[0m_cnx\u001b[0m\u001b[0;34m:\u001b[0m\u001b[0;34m\u001b[0m\u001b[0;34m\u001b[0m\u001b[0m\n\u001b[1;32m    233\u001b[0m             \u001b[0;32mraise\u001b[0m \u001b[0merrors\u001b[0m\u001b[0;34m.\u001b[0m\u001b[0mProgrammingError\u001b[0m\u001b[0;34m(\u001b[0m\u001b[0;34m\"Cursor is not connected\"\u001b[0m\u001b[0;34m)\u001b[0m\u001b[0;34m\u001b[0m\u001b[0;34m\u001b[0m\u001b[0m\n\u001b[0;32m--> 234\u001b[0;31m         \u001b[0mself\u001b[0m\u001b[0;34m.\u001b[0m\u001b[0m_cnx\u001b[0m\u001b[0;34m.\u001b[0m\u001b[0mhandle_unread_result\u001b[0m\u001b[0;34m(\u001b[0m\u001b[0;34m)\u001b[0m\u001b[0;34m\u001b[0m\u001b[0;34m\u001b[0m\u001b[0m\n\u001b[0m\u001b[1;32m    235\u001b[0m \u001b[0;34m\u001b[0m\u001b[0m\n\u001b[1;32m    236\u001b[0m         \u001b[0mstmt\u001b[0m \u001b[0;34m=\u001b[0m \u001b[0;34m''\u001b[0m\u001b[0;34m\u001b[0m\u001b[0;34m\u001b[0m\u001b[0m\n",
      "\u001b[0;32m~/opt/anaconda3/lib/python3.7/site-packages/mysql/connector/connection_cext.py\u001b[0m in \u001b[0;36mhandle_unread_result\u001b[0;34m(self, prepared)\u001b[0m\n\u001b[1;32m    693\u001b[0m             \u001b[0mself\u001b[0m\u001b[0;34m.\u001b[0m\u001b[0mconsume_results\u001b[0m\u001b[0;34m(\u001b[0m\u001b[0;34m)\u001b[0m\u001b[0;34m\u001b[0m\u001b[0;34m\u001b[0m\u001b[0m\n\u001b[1;32m    694\u001b[0m         \u001b[0;32melif\u001b[0m \u001b[0munread_result\u001b[0m\u001b[0;34m:\u001b[0m\u001b[0;34m\u001b[0m\u001b[0;34m\u001b[0m\u001b[0m\n\u001b[0;32m--> 695\u001b[0;31m             \u001b[0;32mraise\u001b[0m \u001b[0merrors\u001b[0m\u001b[0;34m.\u001b[0m\u001b[0mInternalError\u001b[0m\u001b[0;34m(\u001b[0m\u001b[0;34m\"Unread result found\"\u001b[0m\u001b[0;34m)\u001b[0m\u001b[0;34m\u001b[0m\u001b[0;34m\u001b[0m\u001b[0m\n\u001b[0m",
      "\u001b[0;31mInternalError\u001b[0m: Unread result found"
     ]
    }
   ],
   "source": [
    "# What are the most popular foods among the class?\n",
    "\n",
    "cursor.execute(\"\"\"SELECT\n",
    "                    favorite_food,\n",
    "                    COUNT(favorite_food)\n",
    "                FROM\n",
    "                    students\n",
    "                GROUP BY\n",
    "                    favorite_food\n",
    "                ORDER BY\n",
    "                    COUNT(favorite_food) DESC\n",
    "                ;\"\"\")\n",
    "cursor.fetchall()"
   ]
  },
  {
   "cell_type": "code",
   "execution_count": null,
   "metadata": {},
   "outputs": [],
   "source": []
  }
 ],
 "metadata": {
  "kernelspec": {
   "display_name": "Python 3",
   "language": "python",
   "name": "python3"
  },
  "language_info": {
   "codemirror_mode": {
    "name": "ipython",
    "version": 3
   },
   "file_extension": ".py",
   "mimetype": "text/x-python",
   "name": "python",
   "nbconvert_exporter": "python",
   "pygments_lexer": "ipython3",
   "version": "3.7.4"
  }
 },
 "nbformat": 4,
 "nbformat_minor": 2
}
